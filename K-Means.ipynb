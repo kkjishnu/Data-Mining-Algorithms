{
 "cells": [
  {
   "cell_type": "code",
   "execution_count": 49,
   "metadata": {},
   "outputs": [],
   "source": [
    "import matplotlib.pyplot as plt\n",
    "import pandas as pd\n",
    "import numpy as np\n",
    "from pylab import rcParams"
   ]
  },
  {
   "cell_type": "code",
   "execution_count": 50,
   "metadata": {},
   "outputs": [],
   "source": [
    "%matplotlib inline"
   ]
  },
  {
   "cell_type": "code",
   "execution_count": 51,
   "metadata": {},
   "outputs": [
    {
     "name": "stdout",
     "output_type": "stream",
     "text": [
      "Enter No of Clusters2\n",
      "X, Y\n",
      "24\n",
      "1\n",
      "X, Y\n",
      "9\n",
      "3\n",
      "[[ 2.37599355e+01  6.33091209e-01]\n",
      " [ 2.45641316e+01  1.46495950e+00]\n",
      " [ 2.39168557e+01  1.42487247e+00]\n",
      " [ 2.51646935e+01  5.88586224e-01]\n",
      " [ 2.37626449e+01  1.82864224e-01]\n",
      " [ 2.43983408e+01 -5.51862061e-01]\n",
      " [ 2.21883017e+01  1.22994341e+00]\n",
      " [ 2.45354434e+01  1.93366788e+00]\n",
      " [ 2.37184675e+01  7.86021025e-01]\n",
      " [ 2.38083590e+01  9.71248289e-01]\n",
      " [ 2.31510161e+01  1.02267500e+00]\n",
      " [ 2.35372586e+01  6.42722213e-01]\n",
      " [ 2.39384868e+01  3.34527796e-01]\n",
      " [ 2.46599474e+01  2.27125607e+00]\n",
      " [ 2.39412951e+01  5.08984898e-02]\n",
      " [ 2.34489021e+01  1.59936409e-01]\n",
      " [ 2.44785434e+01 -2.40659268e-01]\n",
      " [ 2.42434048e+01  3.19545438e+00]\n",
      " [ 2.38770528e+01  2.44013626e-01]\n",
      " [ 2.35556746e+01  2.46431427e+00]\n",
      " [ 2.50697655e+01  3.31208724e-01]\n",
      " [ 2.40639681e+01  2.75020194e-01]\n",
      " [ 2.42116351e+01  8.26901404e-01]\n",
      " [ 2.52289749e+01  4.37185913e-01]\n",
      " [ 2.36608390e+01  2.49034485e-01]\n",
      " [ 2.46152942e+01  4.83986735e-01]\n",
      " [ 2.45902250e+01  1.66278775e+00]\n",
      " [ 2.43540773e+01  1.20083308e+00]\n",
      " [ 2.29880935e+01  3.07202040e-01]\n",
      " [ 2.32568703e+01  1.20570355e+00]\n",
      " [ 2.41910256e+01 -7.05439185e-01]\n",
      " [ 2.24242690e+01  2.23335281e+00]\n",
      " [ 2.29675583e+01  1.47949212e-01]\n",
      " [ 2.35442758e+01  9.23424898e-01]\n",
      " [ 2.26986106e+01  4.01636010e-01]\n",
      " [ 2.44675527e+01  1.37962571e+00]\n",
      " [ 2.32771655e+01  5.81962233e-02]\n",
      " [ 2.56640807e+01  1.34448768e+00]\n",
      " [ 2.42783220e+01  1.33102971e+00]\n",
      " [ 2.34089336e+01  6.25044395e-02]\n",
      " [ 2.42503075e+01  2.29805554e+00]\n",
      " [ 2.34245244e+01  1.46793477e-01]\n",
      " [ 2.37699238e+01  5.82635243e-01]\n",
      " [ 2.38078403e+01  1.21652129e+00]\n",
      " [ 2.54325907e+01 -7.26616312e-01]\n",
      " [ 2.27335910e+01  4.18111341e-01]\n",
      " [ 2.40426249e+01  1.38457781e+00]\n",
      " [ 2.24910732e+01  2.91271825e-01]\n",
      " [ 2.40448301e+01  2.99300692e+00]\n",
      " [ 2.48087789e+01  1.75371592e+00]\n",
      " [ 2.69535613e+01  3.57783520e-01]\n",
      " [ 2.46593145e+01  2.97141708e-01]\n",
      " [ 2.51772886e+01 -3.63922096e-01]\n",
      " [ 2.36688397e+01  2.77067058e+00]\n",
      " [ 2.30201390e+01  7.58451225e-01]\n",
      " [ 2.26534756e+01  1.41708796e+00]\n",
      " [ 2.39620387e+01  2.34135587e+00]\n",
      " [ 2.44980003e+01  5.53871790e-01]\n",
      " [ 2.40917957e+01  1.19608080e+00]\n",
      " [ 2.29510109e+01 -3.90387963e-02]\n",
      " [ 2.51568457e+01  1.20308339e+00]\n",
      " [ 2.53398035e+01  1.40916823e+00]\n",
      " [ 2.42181314e+01 -9.39404568e-01]\n",
      " [ 2.49282181e+01  2.84201089e+00]\n",
      " [ 2.52873583e+01  3.85737354e+00]\n",
      " [ 2.30624516e+01 -9.78351811e-01]\n",
      " [ 2.36236595e+01  1.26649176e+00]\n",
      " [ 2.33102236e+01  1.41794127e+00]\n",
      " [ 2.37479758e+01 -3.18844847e-01]\n",
      " [ 2.33094898e+01  5.23915763e-01]\n",
      " [ 2.54894797e+01  1.50148619e+00]\n",
      " [ 2.37373682e+01 -5.96178446e-01]\n",
      " [ 2.40281669e+01  3.10462578e+00]\n",
      " [ 2.28936425e+01 -6.41851726e-01]\n",
      " [ 2.28008929e+01  3.17095813e+00]\n",
      " [ 2.31165940e+01  2.47031885e+00]\n",
      " [ 2.33799977e+01  1.40449898e+00]\n",
      " [ 2.60836194e+01  1.67680986e+00]\n",
      " [ 2.21816188e+01  1.01786300e+00]\n",
      " [ 2.33507839e+01 -1.24170207e-02]\n",
      " [ 2.51254152e+01  7.09312514e-01]\n",
      " [ 2.35139631e+01  1.69985998e+00]\n",
      " [ 2.38205244e+01  1.90390124e-01]\n",
      " [ 2.28395768e+01 -6.70658793e-01]\n",
      " [ 2.42920153e+01  1.45437560e+00]\n",
      " [ 2.41769057e+01  7.12081490e-01]\n",
      " [ 2.35213002e+01  1.60023409e+00]\n",
      " [ 2.35839270e+01  1.65682200e+00]\n",
      " [ 2.45229822e+01  2.04895758e+00]\n",
      " [ 2.48467527e+01  1.27081546e+00]\n",
      " [ 2.43211776e+01  2.56525220e+00]\n",
      " [ 2.35253266e+01 -5.99820491e-01]\n",
      " [ 2.41630068e+01  6.42415872e-02]\n",
      " [ 2.27561923e+01  1.25715960e+00]\n",
      " [ 2.37854823e+01  9.85879515e-01]\n",
      " [ 2.48429858e+01  1.27584784e+00]\n",
      " [ 2.39677156e+01  1.55546824e+00]\n",
      " [ 2.31060194e+01  1.33316219e+00]\n",
      " [ 2.27353886e+01  1.75971832e+00]\n",
      " [ 2.38432062e+01  2.47322643e+00]\n",
      " [ 9.53934399e+00  2.98927255e+00]\n",
      " [ 7.96488325e+00  3.12887048e+00]\n",
      " [ 9.27458860e+00  3.58455137e+00]\n",
      " [ 8.36387779e+00  3.03982262e+00]\n",
      " [ 7.81826234e+00  4.15801168e+00]\n",
      " [ 8.28029598e+00  2.26513869e+00]\n",
      " [ 8.37646477e+00  1.73733775e+00]\n",
      " [ 8.87302460e+00  2.79288945e+00]\n",
      " [ 9.73901305e+00  3.43981965e+00]\n",
      " [ 9.83823832e+00  3.10607815e+00]\n",
      " [ 8.94240269e+00  3.13785206e+00]\n",
      " [ 9.78422290e+00  3.39744189e+00]\n",
      " [ 7.70203310e+00  3.29861665e+00]\n",
      " [ 9.52139158e+00  3.48961126e+00]\n",
      " [ 8.78363020e+00  1.53195224e+00]\n",
      " [ 9.96764190e+00  1.76530157e+00]\n",
      " [ 8.82647583e+00  2.23994476e+00]\n",
      " [ 8.90037084e+00  4.15367223e+00]\n",
      " [ 8.81887296e+00  2.62029090e+00]\n",
      " [ 8.73096691e+00  1.25537717e+00]\n",
      " [ 9.15820639e+00  4.75995854e+00]\n",
      " [ 8.97911991e+00  2.75435242e+00]\n",
      " [ 9.45578986e+00  4.18415955e+00]\n",
      " [ 7.44387141e+00  3.93438110e+00]\n",
      " [ 8.37950761e+00  3.24767597e+00]\n",
      " [ 8.86467846e+00  3.58002362e+00]\n",
      " [ 9.63954595e+00  3.74218947e+00]\n",
      " [ 7.73945323e+00  4.48377171e+00]\n",
      " [ 7.90059429e+00  2.35759451e+00]\n",
      " [ 1.04861026e+01  2.61968165e+00]\n",
      " [ 1.06406004e+01  3.38096526e+00]\n",
      " [ 8.08033301e+00  1.61301328e+00]\n",
      " [ 7.60852523e+00  3.32311858e+00]\n",
      " [ 8.86664749e+00  3.78308562e+00]\n",
      " [ 8.99910122e+00  3.13014606e+00]\n",
      " [ 1.03096916e+01  1.60969276e+00]\n",
      " [ 8.89582942e+00  3.20409320e+00]\n",
      " [ 1.03122900e+01  2.84230224e+00]\n",
      " [ 8.71141588e+00  4.53059150e+00]\n",
      " [ 9.09930515e+00  3.87213253e+00]\n",
      " [ 9.27428239e+00  3.29185381e+00]\n",
      " [ 8.37014268e+00  2.53818897e+00]\n",
      " [ 9.36297104e+00  3.26642684e+00]\n",
      " [ 8.86248165e+00  2.86609073e+00]\n",
      " [ 9.89072868e+00  1.77000735e+00]\n",
      " [ 8.97781850e+00  3.08176484e+00]\n",
      " [ 9.45800692e+00  2.96101533e+00]\n",
      " [ 8.72374929e+00  2.20436025e+00]\n",
      " [ 9.68405684e+00  3.25110276e+00]\n",
      " [ 8.20587008e+00  4.09926824e+00]\n",
      " [ 9.07945001e+00  6.39010422e+00]\n",
      " [ 8.92445986e+00  2.11744536e+00]\n",
      " [ 1.04243844e+01  3.26248401e+00]\n",
      " [ 8.71335113e+00  3.81420735e+00]\n",
      " [ 1.09226321e+01  2.75460157e+00]\n",
      " [ 9.56872470e+00  3.14571577e+00]\n",
      " [ 9.04450070e+00  4.06559690e+00]\n",
      " [ 9.23895901e+00  3.63986174e+00]\n",
      " [ 9.99027346e+00  1.75634916e+00]\n",
      " [ 7.72422006e+00  4.18223064e+00]\n",
      " [ 8.81785291e+00  3.01671880e+00]\n",
      " [ 7.80962756e+00  5.56154956e+00]\n",
      " [ 9.12980912e+00  3.54754579e+00]\n",
      " [ 7.31691497e+00  3.45539988e+00]\n",
      " [ 9.96147951e+00  3.52051034e+00]\n",
      " [ 8.32583376e+00  1.38515285e+00]\n",
      " [ 1.03414416e+01  4.46455735e+00]\n",
      " [ 1.01119865e+01  1.07240000e+00]\n",
      " [ 8.44034046e+00  2.10936156e+00]\n",
      " [ 8.72675817e+00  3.54653976e+00]\n",
      " [ 9.94485961e+00  2.05409351e+00]\n",
      " [ 9.26172500e+00  4.51441886e+00]\n",
      " [ 9.10581094e+00  3.21675657e+00]\n",
      " [ 9.10443324e+00  2.71812799e+00]\n",
      " [ 9.12701801e+00  3.73033336e+00]\n",
      " [ 9.37256782e+00  3.72091439e+00]\n",
      " [ 1.11300275e+01  2.20741088e+00]\n",
      " [ 7.45080272e+00  3.33600578e+00]\n",
      " [ 8.08465130e+00  1.84349377e+00]\n",
      " [ 9.03653121e+00  2.45425991e+00]\n",
      " [ 8.06876512e+00  3.74581370e+00]\n",
      " [ 7.89945873e+00  3.03823467e+00]\n",
      " [ 8.75653121e+00  4.17056965e+00]\n",
      " [ 1.05290115e+01  5.68816330e+00]\n",
      " [ 8.77892458e+00  2.53727780e+00]\n",
      " [ 7.50728884e+00  4.25818390e+00]\n",
      " [ 9.30608182e+00  2.60298074e+00]\n",
      " [ 7.57228644e+00  4.29580852e+00]\n",
      " [ 1.01490206e+01  2.30746469e+00]\n",
      " [ 9.39658147e+00  2.84743547e+00]\n",
      " [ 7.24856168e+00  2.64788093e+00]\n",
      " [ 9.35909629e+00  3.17279781e+00]\n",
      " [ 8.68617418e+00  4.59245052e+00]\n",
      " [ 7.93791084e+00  3.97880610e+00]\n",
      " [ 8.95299722e+00  2.42437652e+00]\n",
      " [ 1.11062812e+01  2.36993098e+00]\n",
      " [ 9.51642970e+00  4.66870846e+00]\n",
      " [ 8.68816305e+00  2.34171742e+00]\n",
      " [ 8.62012360e+00  1.54023821e+00]\n",
      " [ 8.15390403e+00  2.04902688e+00]]\n"
     ]
    }
   ],
   "source": [
    "k = int(input(\"Enter No of Clusters\"))\n",
    "\n",
    "data = [0]*k\n",
    "for i in range(k):\n",
    "    center = []\n",
    "    print(\"X, Y\")\n",
    "    for j in range(2):\n",
    "        center.append(int(input()))\n",
    "    data[i] = np.random.randn(100,2) + np.array(center)\n",
    "    \n",
    "data = np.concatenate(data,axis=0)   \n",
    "\n",
    "print(data)\n",
    "rcParams['figure.figsize'] = 5, 5"
   ]
  },
  {
   "cell_type": "code",
   "execution_count": 52,
   "metadata": {},
   "outputs": [],
   "source": [
    "rcParams['figure.figsize'] = 5, 5"
   ]
  },
  {
   "cell_type": "code",
   "execution_count": 53,
   "metadata": {},
   "outputs": [
    {
     "data": {
      "text/plain": [
       "<matplotlib.collections.PathCollection at 0x17effb0fc88>"
      ]
     },
     "execution_count": 53,
     "metadata": {},
     "output_type": "execute_result"
    },
    {
     "data": {
      "image/png": "[encoded data removed]",
      "text/plain": [
       "<Figure size 360x360 with 1 Axes>"
      ]
     },
     "metadata": {
      "needs_background": "light"
     },
     "output_type": "display_data"
    }
   ],
   "source": [
    "plt.scatter(data[:,0], data[:,1],s=10)"
   ]
  },
  {
   "cell_type": "code",
   "execution_count": 54,
   "metadata": {},
   "outputs": [
    {
     "data": {
      "text/plain": [
       "(200, 2)"
      ]
     },
     "execution_count": 54,
     "metadata": {},
     "output_type": "execute_result"
    }
   ],
   "source": [
    "data.shape"
   ]
  },
  {
   "cell_type": "code",
   "execution_count": 55,
   "metadata": {},
   "outputs": [
    {
     "name": "stdout",
     "output_type": "stream",
     "text": [
      "Mean =  [16.46639882  2.07315708]\n",
      "Standard Deviation =  [7.5281678  1.47412382]\n"
     ]
    }
   ],
   "source": [
    "n = data.shape[0]\n",
    "c = data.shape[1]\n",
    "\n",
    "mean = np.mean(data, axis = 0)\n",
    "std = np.std(data, axis = 0)\n",
    "\n",
    "print(\"Mean = \",mean)\n",
    "print(\"Standard Deviation = \",std)"
   ]
  },
  {
   "cell_type": "code",
   "execution_count": 56,
   "metadata": {},
   "outputs": [
    {
     "name": "stdout",
     "output_type": "stream",
     "text": [
      "[[9.7842229  1.1960808 ]\n",
      " [8.86248165 0.30720204]]\n"
     ]
    }
   ],
   "source": [
    "centers = []\n",
    "for i in range(k):\n",
    "    centers.append([np.random.choice(data[:,0]), np.random.choice(data[:,1])])\n",
    "centers = np.array(centers)\n",
    "print(centers)"
   ]
  },
  {
   "cell_type": "code",
   "execution_count": 57,
   "metadata": {},
   "outputs": [
    {
     "data": {
      "text/plain": [
       "<matplotlib.collections.PathCollection at 0x17effb791d0>"
      ]
     },
     "execution_count": 57,
     "metadata": {},
     "output_type": "execute_result"
    },
    {
     "data": {
      "image/png": "[encoded data removed]",
      "text/plain": [
       "<Figure size 360x360 with 1 Axes>"
      ]
     },
     "metadata": {
      "needs_background": "light"
     },
     "output_type": "display_data"
    }
   ],
   "source": [
    "plt.scatter(data[:,0], data[:,1],s=10)\n",
    "plt.scatter(centers[:,0], centers[:,1], c='g')"
   ]
  },
  {
   "cell_type": "code",
   "execution_count": 58,
   "metadata": {},
   "outputs": [],
   "source": [
    "cluster_new = [0]*n\n",
    "cluster_old = [-1]*n"
   ]
  },
  {
   "cell_type": "code",
   "execution_count": 59,
   "metadata": {},
   "outputs": [
    {
     "data": {
      "image/png": "[encoded data removed]",
      "text/plain": [
       "<Figure size 360x360 with 1 Axes>"
      ]
     },
     "metadata": {
      "needs_background": "light"
     },
     "output_type": "display_data"
    }
   ],
   "source": [
    "while np.array_equal(cluster_new,cluster_old) == False:\n",
    "    distances = np.zeros((n,k))\n",
    "    for i in range(k):\n",
    "        distances[:,i] = np.linalg.norm(data - centers[i],axis=1)\n",
    "    cluster_old = cluster_new\n",
    "    cluster_new = np.argmin(distances,axis=1)\n",
    "    for i in range(k):\n",
    "        centers[i] = np.mean(data[cluster_new == i], axis=0)\n",
    "    plt.scatter(data[:,0], data[:,1],s=10)\n",
    "    plt.scatter(centers[:,0], centers[:,1], c='g')  "
   ]
  },
  {
   "cell_type": "code",
   "execution_count": 60,
   "metadata": {},
   "outputs": [
    {
     "name": "stdout",
     "output_type": "stream",
     "text": [
      "[[23.94388026  0.99334541]\n",
      " [ 8.98891738  3.15296876]]\n"
     ]
    }
   ],
   "source": [
    "print(centers)"
   ]
  },
  {
   "cell_type": "code",
   "execution_count": 61,
   "metadata": {},
   "outputs": [
    {
     "data": {
      "text/plain": [
       "<matplotlib.collections.PathCollection at 0x17effc4e668>"
      ]
     },
     "execution_count": 61,
     "metadata": {},
     "output_type": "execute_result"
    },
    {
     "data": {
      "image/png": "[encoded data removed]",
      "text/plain": [
       "<Figure size 360x360 with 1 Axes>"
      ]
     },
     "metadata": {
      "needs_background": "light"
     },
     "output_type": "display_data"
    }
   ],
   "source": [
    "plt.scatter(data[:,0], data[:,1],s=10)\n",
    "plt.scatter(centers[:,0], centers[:,1], c='g')"
   ]
  },
  {
   "cell_type": "code",
   "execution_count": null,
   "metadata": {},
   "outputs": [],
   "source": []
  }
 ],
 "metadata": {
  "kernelspec": {
   "display_name": "Python 3",
   "language": "python",
   "name": "python3"
  },
  "language_info": {
   "codemirror_mode": {
    "name": "ipython",
    "version": 3
   },
   "file_extension": ".py",
   "mimetype": "text/x-python",
   "name": "python",
   "nbconvert_exporter": "python",
   "pygments_lexer": "ipython3",
   "version": "3.6.6"
  }
 },
 "nbformat": 4,
 "nbformat_minor": 2
}
